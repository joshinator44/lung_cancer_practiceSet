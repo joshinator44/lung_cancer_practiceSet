{
 "cells": [
  {
   "cell_type": "code",
   "execution_count": 55,
   "metadata": {},
   "outputs": [
    {
     "name": "stdout",
     "output_type": "stream",
     "text": [
      "270\n",
      "Male cancer 145\n",
      "Female cancer 147\n"
     ]
    }
   ],
   "source": [
    "import pandas as pd\n",
    "import plotly.express as px\n",
    "import streamlit as st\n",
    "wheezing = []\n",
    "cancer = 0\n",
    "filename = \"/Users/joshuata/Desktop/VisualStudio Code/lung_cancer/survey lung cancer.csv\"\n",
    "df = pd.read_csv(filename)\n",
    "df = df.drop(columns = [\"PEER_PRESSURE\", \"SHORTNESS OF BREATH\", \"YELLOW_FINGERS\"])\n",
    "male_cancer = 0\n",
    "female_cancer = 0\n",
    "for index, row in df.iterrows():\n",
    "    if row[\"LUNG_CANCER\"] == \"YES\":\n",
    "        df.iat[index, 12] = 1\n",
    "        cancer += 1\n",
    "    else:\n",
    "        df.iat[index, 12] = 0\n",
    "for index, row in df.iterrows():\n",
    "    if row[\"GENDER\"] == \"M\":\n",
    "        df.iat[index, 0] = 1\n",
    "        if row[\"LUNG_CANCER\"] == 1:\n",
    "            male_cancer += 1\n",
    "    else:\n",
    "        df.iat[index, 0] = 0\n",
    "        female_cancer += 1\n",
    "\n",
    "\n",
    "\n",
    "print(cancer)\n",
    "age_coughing = px.histogram(df[\"COUGHING\"], x=df[\"AGE\"])\n",
    "st.dataframe(df)\n",
    "st.set_page_config(page_title=\"Main Causes of Smoking\")\n",
    "st.header('What are the main causes and symptoms of Lung Cancer?')\n",
    "print(\"Male cancer\", str(male_cancer))\n",
    "print(\"Female cancer\", str(female_cancer))\n"
   ]
  },
  {
   "cell_type": "code",
   "execution_count": 18,
   "metadata": {},
   "outputs": [
    {
     "data": {
      "text/plain": [
       "'F'"
      ]
     },
     "execution_count": 18,
     "metadata": {},
     "output_type": "execute_result"
    }
   ],
   "source": []
  },
  {
   "cell_type": "code",
   "execution_count": 43,
   "metadata": {},
   "outputs": [
    {
     "name": "stdout",
     "output_type": "stream",
     "text": [
      "<class 'pandas.core.frame.DataFrame'>\n",
      "RangeIndex: 309 entries, 0 to 308\n",
      "Data columns (total 13 columns):\n",
      " #   Column                 Non-Null Count  Dtype \n",
      "---  ------                 --------------  ----- \n",
      " 0   GENDER                 309 non-null    object\n",
      " 1   AGE                    309 non-null    int64 \n",
      " 2   SMOKING                309 non-null    int64 \n",
      " 3   ANXIETY                309 non-null    int64 \n",
      " 4   CHRONIC DISEASE        309 non-null    int64 \n",
      " 5   FATIGUE                309 non-null    int64 \n",
      " 6   ALLERGY                309 non-null    int64 \n",
      " 7   WHEEZING               309 non-null    int64 \n",
      " 8   ALCOHOL CONSUMING      309 non-null    int64 \n",
      " 9   COUGHING               309 non-null    int64 \n",
      " 10  SWALLOWING DIFFICULTY  309 non-null    int64 \n",
      " 11  CHEST PAIN             309 non-null    int64 \n",
      " 12  LUNG_CANCER            309 non-null    object\n",
      "dtypes: int64(11), object(2)\n",
      "memory usage: 31.5+ KB\n"
     ]
    }
   ],
   "source": [
    "df.info()"
   ]
  },
  {
   "cell_type": "code",
   "execution_count": 44,
   "metadata": {},
   "outputs": [
    {
     "data": {
      "text/html": [
       "<div>\n",
       "<style scoped>\n",
       "    .dataframe tbody tr th:only-of-type {\n",
       "        vertical-align: middle;\n",
       "    }\n",
       "\n",
       "    .dataframe tbody tr th {\n",
       "        vertical-align: top;\n",
       "    }\n",
       "\n",
       "    .dataframe thead th {\n",
       "        text-align: right;\n",
       "    }\n",
       "</style>\n",
       "<table border=\"1\" class=\"dataframe\">\n",
       "  <thead>\n",
       "    <tr style=\"text-align: right;\">\n",
       "      <th></th>\n",
       "      <th>GENDER</th>\n",
       "      <th>AGE</th>\n",
       "      <th>SMOKING</th>\n",
       "      <th>ANXIETY</th>\n",
       "      <th>CHRONIC DISEASE</th>\n",
       "      <th>FATIGUE</th>\n",
       "      <th>ALLERGY</th>\n",
       "      <th>WHEEZING</th>\n",
       "      <th>ALCOHOL CONSUMING</th>\n",
       "      <th>COUGHING</th>\n",
       "      <th>SWALLOWING DIFFICULTY</th>\n",
       "      <th>CHEST PAIN</th>\n",
       "      <th>LUNG_CANCER</th>\n",
       "    </tr>\n",
       "  </thead>\n",
       "  <tbody>\n",
       "    <tr>\n",
       "      <th>0</th>\n",
       "      <td>M</td>\n",
       "      <td>69</td>\n",
       "      <td>1</td>\n",
       "      <td>2</td>\n",
       "      <td>1</td>\n",
       "      <td>2</td>\n",
       "      <td>1</td>\n",
       "      <td>2</td>\n",
       "      <td>2</td>\n",
       "      <td>2</td>\n",
       "      <td>2</td>\n",
       "      <td>2</td>\n",
       "      <td>1</td>\n",
       "    </tr>\n",
       "    <tr>\n",
       "      <th>1</th>\n",
       "      <td>M</td>\n",
       "      <td>74</td>\n",
       "      <td>2</td>\n",
       "      <td>1</td>\n",
       "      <td>2</td>\n",
       "      <td>2</td>\n",
       "      <td>2</td>\n",
       "      <td>1</td>\n",
       "      <td>1</td>\n",
       "      <td>1</td>\n",
       "      <td>2</td>\n",
       "      <td>2</td>\n",
       "      <td>1</td>\n",
       "    </tr>\n",
       "    <tr>\n",
       "      <th>2</th>\n",
       "      <td>F</td>\n",
       "      <td>59</td>\n",
       "      <td>1</td>\n",
       "      <td>1</td>\n",
       "      <td>1</td>\n",
       "      <td>2</td>\n",
       "      <td>1</td>\n",
       "      <td>2</td>\n",
       "      <td>1</td>\n",
       "      <td>2</td>\n",
       "      <td>1</td>\n",
       "      <td>2</td>\n",
       "      <td>0</td>\n",
       "    </tr>\n",
       "    <tr>\n",
       "      <th>3</th>\n",
       "      <td>M</td>\n",
       "      <td>63</td>\n",
       "      <td>2</td>\n",
       "      <td>2</td>\n",
       "      <td>1</td>\n",
       "      <td>1</td>\n",
       "      <td>1</td>\n",
       "      <td>1</td>\n",
       "      <td>2</td>\n",
       "      <td>1</td>\n",
       "      <td>2</td>\n",
       "      <td>2</td>\n",
       "      <td>0</td>\n",
       "    </tr>\n",
       "    <tr>\n",
       "      <th>4</th>\n",
       "      <td>F</td>\n",
       "      <td>63</td>\n",
       "      <td>1</td>\n",
       "      <td>1</td>\n",
       "      <td>1</td>\n",
       "      <td>1</td>\n",
       "      <td>1</td>\n",
       "      <td>2</td>\n",
       "      <td>1</td>\n",
       "      <td>2</td>\n",
       "      <td>1</td>\n",
       "      <td>1</td>\n",
       "      <td>0</td>\n",
       "    </tr>\n",
       "  </tbody>\n",
       "</table>\n",
       "</div>"
      ],
      "text/plain": [
       "  GENDER  AGE  SMOKING  ANXIETY  CHRONIC DISEASE  FATIGUE   ALLERGY   \\\n",
       "0      M   69        1        2                1         2         1   \n",
       "1      M   74        2        1                2         2         2   \n",
       "2      F   59        1        1                1         2         1   \n",
       "3      M   63        2        2                1         1         1   \n",
       "4      F   63        1        1                1         1         1   \n",
       "\n",
       "   WHEEZING  ALCOHOL CONSUMING  COUGHING  SWALLOWING DIFFICULTY  CHEST PAIN  \\\n",
       "0         2                  2         2                      2           2   \n",
       "1         1                  1         1                      2           2   \n",
       "2         2                  1         2                      1           2   \n",
       "3         1                  2         1                      2           2   \n",
       "4         2                  1         2                      1           1   \n",
       "\n",
       "  LUNG_CANCER  \n",
       "0           1  \n",
       "1           1  \n",
       "2           0  \n",
       "3           0  \n",
       "4           0  "
      ]
     },
     "execution_count": 44,
     "metadata": {},
     "output_type": "execute_result"
    }
   ],
   "source": [
    "df.head()"
   ]
  },
  {
   "cell_type": "code",
   "execution_count": null,
   "metadata": {},
   "outputs": [],
   "source": []
  }
 ],
 "metadata": {
  "kernelspec": {
   "display_name": "Python 3.10.9 ('base')",
   "language": "python",
   "name": "python3"
  },
  "language_info": {
   "codemirror_mode": {
    "name": "ipython",
    "version": 3
   },
   "file_extension": ".py",
   "mimetype": "text/x-python",
   "name": "python",
   "nbconvert_exporter": "python",
   "pygments_lexer": "ipython3",
   "version": "3.10.9"
  },
  "orig_nbformat": 4,
  "vscode": {
   "interpreter": {
    "hash": "d3f83c34ba8f8aa5f101baf95c8c62a44cce994c2a3c2cbd3559c038761dd531"
   }
  }
 },
 "nbformat": 4,
 "nbformat_minor": 2
}
